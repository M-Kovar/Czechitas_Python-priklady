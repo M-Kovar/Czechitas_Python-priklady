{
 "cells": [
  {
   "cell_type": "markdown",
   "metadata": {},
   "source": [
    "# 04: API Chuck Norris\n",
    "\n",
    "Adresa https://api.chucknorris.io/ popisuje API, které vrací náhodný vtip o Chucku Norrisovi. Najdi na stránce způsob použití API, tedy adresu, která vrací vtip, a využij ho pro následující cvičení:\n",
    "- Požádej API o vtip a ulož si jeho odpověď.\n",
    "- Odpověď převeď do formátu JSON a zobraz si ji, ať vidíš její formát.\n",
    "- Z odpovědi vytáhni pouze text vtipu.\n",
    "- Vtip ulož jako řádek do souboru `jokes.txt`, případně si ho vlož do seznamu.\n",
    "- Takto nasbírej pět vtipů. Ukládat můžeš průběžně pomocí `print()`, případně nejdřív vytvořit seznam vtipů a pak ho uložit najednou pomocí `writelines()`.\n",
    "\n",
    "Může se hodit: `requests`, `range()`, `\\n`\n",
    "\n",
    "Bonus: Omez vtipy pouze na jednu nebo více vybraných kategorií specifikováním atributu `category` v requestu. Využij parametr `params` v `requests.get()`, způsob použití najdeš v dokumentaci nebo vygooglíš.\n",
    "Odkaz na seznam všech kategorií najdeš na https://api.chucknorris.io/, můžeš použít např. 'dev' (programátorské) nebo 'animal'.\n",
    "\n",
    "Bonus 2: Kód můžeš zpracovat jako funkci, jejímž vstupem bude požadovaný počet vtipů a volitelně seznam kategorií.\n",
    "\n",
    "*Pokud by API nefungovalo, můžeš zkusit najít alternativní API jako zdroj vtipů nebo jiných dat.*"
   ]
  },
  {
   "cell_type": "code",
   "execution_count": 1,
   "metadata": {},
   "outputs": [
    {
     "name": "stdout",
     "output_type": "stream",
     "text": [
      "{'categories': ['dev'], 'created_at': '2020-01-05 13:42:19.324003', 'icon_url': 'https://assets.chucknorris.host/img/avatar/chuck-norris.png', 'id': 'poqerqlpqz2en3hacikbjw', 'updated_at': '2020-01-05 13:42:19.324003', 'url': 'https://api.chucknorris.io/jokes/poqerqlpqz2en3hacikbjw', 'value': \"Chuck Norris doesn't use reflection, reflection asks politely for his help.\"}\n",
      "{'categories': [], 'created_at': '2020-01-05 13:42:21.795084', 'icon_url': 'https://assets.chucknorris.host/img/avatar/chuck-norris.png', 'id': '9vaFPm2mRk22HjtOEpYlmA', 'updated_at': '2020-01-05 13:42:21.795084', 'url': 'https://api.chucknorris.io/jokes/9vaFPm2mRk22HjtOEpYlmA', 'value': 'Chuck Norris can kneecap you just by simply poking you in the eyes.'}\n",
      "{'categories': [], 'created_at': '2020-01-05 13:42:30.480041', 'icon_url': 'https://assets.chucknorris.host/img/avatar/chuck-norris.png', 'id': 'Q46ifx4tSdOi8pAJYI-dbg', 'updated_at': '2020-01-05 13:42:30.480041', 'url': 'https://api.chucknorris.io/jokes/Q46ifx4tSdOi8pAJYI-dbg', 'value': 'Chuck Norris was born in a log cabin that he built with his own hands.'}\n",
      "{'categories': [], 'created_at': '2020-01-05 13:42:28.664997', 'icon_url': 'https://assets.chucknorris.host/img/avatar/chuck-norris.png', 'id': 'eAs20tuHSEqVpsp71PBvTQ', 'updated_at': '2020-01-05 13:42:28.664997', 'url': 'https://api.chucknorris.io/jokes/eAs20tuHSEqVpsp71PBvTQ', 'value': 'Chuck Norris can speak in any of 37 foreign languages in a Dyslexic format.'}\n",
      "{'categories': [], 'created_at': '2020-01-05 13:42:18.823766', 'icon_url': 'https://assets.chucknorris.host/img/avatar/chuck-norris.png', 'id': 'zigsi5h1tx2ddexbqjarsw', 'updated_at': '2020-01-05 13:42:18.823766', 'url': 'https://api.chucknorris.io/jokes/zigsi5h1tx2ddexbqjarsw', 'value': 'The truth will set you free. Unless Chuck Norris has you, in which case, forget it buddy!'}\n"
     ]
    }
   ],
   "source": [
    "import requests\n",
    "\n",
    "url = \"https://api.chucknorris.io/jokes/random\"\n",
    "number_of_jokes = 5\n",
    "\n",
    "# Varianta 1:\n",
    "with open('jokes.txt', mode=\"w\", encoding=\"utf-8\") as file:\n",
    "    for _ in range(number_of_jokes):\n",
    "        response = requests.get(url)\n",
    "        # Bonus:\n",
    "        # response = requests.get(url, params={'category':['animal','dev']})\n",
    "        response_json = response.json()\n",
    "        print(response_json)\n",
    "        joke = response_json[\"value\"]\n",
    "        print(joke, file=file)\n",
    "        # file.write(joke + \"\\n\")"
   ]
  },
  {
   "cell_type": "code",
   "execution_count": 6,
   "metadata": {},
   "outputs": [
    {
     "name": "stdout",
     "output_type": "stream",
     "text": [
      "{'categories': [], 'created_at': '2020-01-05 13:42:28.420821', 'icon_url': 'https://assets.chucknorris.host/img/avatar/chuck-norris.png', 'id': 'f7VED6lCQ6y0fY_QdOgveA', 'updated_at': '2020-01-05 13:42:28.420821', 'url': 'https://api.chucknorris.io/jokes/f7VED6lCQ6y0fY_QdOgveA', 'value': 'Chuck Norris can literally slap you stupid.'}\n",
      "{'categories': [], 'created_at': '2020-01-05 13:42:23.240175', 'icon_url': 'https://assets.chucknorris.host/img/avatar/chuck-norris.png', 'id': 'dmTPGBRqQ0ypn6pbn4pTMQ', 'updated_at': '2020-01-05 13:42:23.240175', 'url': 'https://api.chucknorris.io/jokes/dmTPGBRqQ0ypn6pbn4pTMQ', 'value': \"Chuck Norris stole Clara's beef.\"}\n",
      "{'categories': [], 'created_at': '2020-01-05 13:42:22.089095', 'icon_url': 'https://assets.chucknorris.host/img/avatar/chuck-norris.png', 'id': 'tPiFmBHMQlGCEisuDjRtpw', 'updated_at': '2020-01-05 13:42:22.089095', 'url': 'https://api.chucknorris.io/jokes/tPiFmBHMQlGCEisuDjRtpw', 'value': 'Before the Wright brothers made the first airplane, Chuck Norris had already invented the rocket and flown to Pluto, where he lived for 20 years.........naked'}\n",
      "{'categories': [], 'created_at': '2020-01-05 13:42:24.142371', 'icon_url': 'https://assets.chucknorris.host/img/avatar/chuck-norris.png', 'id': 'YSHDZHoTSuqUWoDPdzioLw', 'updated_at': '2020-01-05 13:42:24.142371', 'url': 'https://api.chucknorris.io/jokes/YSHDZHoTSuqUWoDPdzioLw', 'value': 'The arc of triumph in Paris is Chuck Norris cock-ring.'}\n",
      "{'categories': [], 'created_at': '2020-01-05 13:42:18.823766', 'icon_url': 'https://assets.chucknorris.host/img/avatar/chuck-norris.png', 'id': 'rhJhURPFS5W5l9LHt4B2Dg', 'updated_at': '2020-01-05 13:42:18.823766', 'url': 'https://api.chucknorris.io/jokes/rhJhURPFS5W5l9LHt4B2Dg', 'value': \"A fundamental concept in Judaism is the belief in the coming of the messiah. I'm not sure what they waiting for. Chuck Norris is already here!.\"}\n"
     ]
    }
   ],
   "source": [
    "# Varianta 2: Vytvořit seznam, potom ho uložit\n",
    "jokes = []\n",
    "for _ in range(number_of_jokes):\n",
    "    response = requests.get(url)\n",
    "    # Bonus:\n",
    "    # response = requests.get(url, params={'category':['animal','dev']})\n",
    "    response_json = response.json()\n",
    "    print(response_json)\n",
    "    joke = response_json[\"value\"]\n",
    "    jokes.append(joke + \"\\n\")\n",
    "\n",
    "with open('jokes.txt', mode=\"w\", encoding=\"utf-8\") as file:\n",
    "    file.writelines(jokes)"
   ]
  },
  {
   "cell_type": "code",
   "execution_count": 7,
   "metadata": {},
   "outputs": [
    {
     "name": "stdout",
     "output_type": "stream",
     "text": [
      "{'categories': [], 'created_at': '2020-01-05 13:42:22.980058', 'icon_url': 'https://assets.chucknorris.host/img/avatar/chuck-norris.png', 'id': 'vtwPoCxORFaw4NqB_bOcIA', 'updated_at': '2020-01-05 13:42:22.980058', 'url': 'https://api.chucknorris.io/jokes/vtwPoCxORFaw4NqB_bOcIA', 'value': 'Chuck Norris surgically removed his his own hemorrhoids with his toenails, tanned them and made a beautiful travel bag out of them.'}\n",
      "{'categories': [], 'created_at': '2020-01-05 13:42:28.420821', 'icon_url': 'https://assets.chucknorris.host/img/avatar/chuck-norris.png', 'id': 'd5e3fj3kQy2zQ0m5HGR13w', 'updated_at': '2020-01-05 13:42:28.420821', 'url': 'https://api.chucknorris.io/jokes/d5e3fj3kQy2zQ0m5HGR13w', 'value': 'Chuck Norris can land a plane in Auto Pilot.'}\n",
      "{'categories': [], 'created_at': '2020-01-05 13:42:20.568859', 'icon_url': 'https://assets.chucknorris.host/img/avatar/chuck-norris.png', 'id': 'Qw4YSqB7SiGokdrfXvUnNA', 'updated_at': '2020-01-05 13:42:20.568859', 'url': 'https://api.chucknorris.io/jokes/Qw4YSqB7SiGokdrfXvUnNA', 'value': 'the Keebler Elves do not chose to live in a tree, they are just hiding from Chuck Norris'}\n"
     ]
    }
   ],
   "source": [
    "# Bonus: jako funkce\n",
    "def jokes_downloader(number_of_jokes, categories=[]):\n",
    "    with open('jokes.txt', mode=\"w\", encoding=\"utf-8\") as file:\n",
    "        for _ in range(number_of_jokes):\n",
    "            response = requests.get(url, params={'category':categories})\n",
    "            response_json = response.json()\n",
    "            print(response_json)\n",
    "            joke = response_json[\"value\"]\n",
    "            print(joke, file=file)\n",
    "    return\n",
    "\n",
    "jokes_downloader(3)"
   ]
  }
 ],
 "metadata": {
  "kernelspec": {
   "display_name": "Python 3",
   "language": "python",
   "name": "python3"
  },
  "language_info": {
   "codemirror_mode": {
    "name": "ipython",
    "version": 3
   },
   "file_extension": ".py",
   "mimetype": "text/x-python",
   "name": "python",
   "nbconvert_exporter": "python",
   "pygments_lexer": "ipython3",
   "version": "3.12.1"
  }
 },
 "nbformat": 4,
 "nbformat_minor": 2
}
