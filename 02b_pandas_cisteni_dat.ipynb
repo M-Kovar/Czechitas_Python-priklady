{
 "cells": [
  {
   "cell_type": "markdown",
   "metadata": {},
   "source": [
    "# 02: Úpravy a čištění dat v pandas\n",
    "\n",
    "## 02b: Čištění dat - přehled"
   ]
  },
  {
   "cell_type": "markdown",
   "metadata": {},
   "source": [
    "S čím se v datasetech můžeme potkat? Co bude potřeba vyčistit? Jaké metody využít?\n",
    "\n",
    "| Problém                                     | Popis                                             | Metoda/funkce v Pandas/Pythonu              |\n",
    "|--------------------------------------------|-----------------------------------------------------|----------------------------------------------|\n",
    "| Přebytečná data                            | Dataset obsahuje data, která nepotřebujeme nebo nejsou relevantní pro analýzu. | `DataFrame.drop()`                           |\n",
    "| Nevhodně pojmenované sloupce               | Např. sloupec obsahující datum je pojmenován jako \"d\" místo \"Datum\". | `DataFrame.rename()`                        |\n",
    "| Duplicitní záznamy                        | Dataset obsahuje více stejných záznamů. | `DataFrame.drop_duplicates()`               |\n",
    "| Chybějící hodnoty                         | Vhodné je zjistit příčinu a množství chybějících dat. Záznamy lze vyloučit, případně doplnit (např. jako průměr sousedních hodnot)       | `DataFrame.dropna(subset=...)`, `DataFrame.fillna()`                        |\n",
    "| Nevhodná struktura dat                     | Sloupec obsahuje více než jednu informaci (např. několik různých kategorií oddělených čárkou - hodí se rozdělit do více sloupců nebo řádků), těžko filtrovatelná data, apod. Data potřebují přeskupit. | `DataFrame.pivot()`, `DataFrame.pivot_table()`, `Series.str.split(..., expand=True)`, `DataFrame.explode()`                    || Odlehlé a nesmyslné hodnoty                         | Podezřele nízké nebo vysoké hodnoty, nesmyslné hodnoty. Např. -999 pravděpodobně nebude značit teplotu, ale spíš poruchu měření.       | Zobrazení rozložení dat (histogram): `DataFrame.plot.hist()`. Kontrola statistik (min, max, ...): `DataFrame.describe()`.                        |\n",
    "| Nevhodný datový typ hodnot                 | Např. číselné hodnoty nebo datum uloženy jako řetězce. | `Series.astype()`, `pandas.to_datetime(format=...)`                           |\n",
    "| Překlepy                                   | V kategorických záznamech (nebo obecně v datech s malým počtem \"variant obsahu\") lze odhadit z výpisu jedinečných hodnot. Často se opakující, stejné překlepy lze hromadně nahradit. Rozsáhlé různorodé chyby vyžadují pokročilejší metody (nebo jiná data). | `pandas.unique()`, `DataFrame.groupby()`, `Series.replace()` |\n",
    "| Nekonzistentní formát a hodnoty           | Např. různé zápisy jedné kategorie (\"Female\", \"female\" \"F\"), desetinná čárka i tečka zároveň, různé formáty data a času. | `Series.replace()`, `pandas.to_datetime()`                          |\n",
    "| Nadbytečné znaky | Nežádoucí znaky/podřetězce na začátku a na konci řetězců (bílé nebo jakékoliv jiné), znaky/podřetězce uvnitř řetězců. | `Series.str.strip(to_strip=...)`, `Series.replace()`, regex                        |\n",
    "| Nevhodné měřítko, nekonzistentní jednotky | Např. obsah mikroživin v kilogramech (přehlednější by byly např. miligramy), smíchané hodnoty v různých jednotkách. | Transformace dat, např. vydělení vybraných hodnot 1000. Nalezení vybraných hodnot, např. porovnáním `<`, `>`. |\n",
    "| Nevhodný encoding                         | Např. CSV využívá jiný encoding než UTF-8. Dataset se zobrazuje s neznámými znaky. | Výběr encodingu při ukládání dat do CSV např. v Excelu. Použití správného `encoding` parametru při čtení souboru (při neznámém encodingu lze vyzkoušet náhodně více možností a doufat). |"
   ]
  }
 ],
 "metadata": {
  "kernelspec": {
   "display_name": "Python 3",
   "language": "python",
   "name": "python3"
  },
  "language_info": {
   "codemirror_mode": {
    "name": "ipython",
    "version": 3
   },
   "file_extension": ".py",
   "mimetype": "text/x-python",
   "name": "python",
   "nbconvert_exporter": "python",
   "pygments_lexer": "ipython3",
   "version": "3.12.1"
  }
 },
 "nbformat": 4,
 "nbformat_minor": 2
}
