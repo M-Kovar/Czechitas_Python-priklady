{
 "cells": [
  {
   "cell_type": "markdown",
   "metadata": {},
   "source": [
    "# 00: Rozcvička"
   ]
  },
  {
   "cell_type": "markdown",
   "metadata": {},
   "source": [
    "Příklady nejsou seřazené podle obtížnosti nebo témat."
   ]
  },
  {
   "cell_type": "markdown",
   "metadata": {},
   "source": [
    "## 00-01\n",
    "\n",
    "Vytvoř libovolný řetězec a ulož ho do textového souboru \"text.txt\". Následně si soubor otevři, řetězec načti a zobraz ho."
   ]
  },
  {
   "cell_type": "code",
   "execution_count": 13,
   "metadata": {},
   "outputs": [
    {
     "name": "stdout",
     "output_type": "stream",
     "text": [
      "Toto je libovolný řetězec, který si uložíme do souboru.\n",
      "\n"
     ]
    }
   ],
   "source": [
    "# Vytvoření řetězce\n",
    "text = \"Toto je libovolný řetězec, který si uložíme do souboru.\"\n",
    "\n",
    "# Uložení řetězce do textového souboru\n",
    "with open(\"text.txt\", \"w\", encoding=\"utf-8\") as file:\n",
    "    print(text, file=file)\n",
    "    # file.write(text)\n",
    "\n",
    "# Otevření a načtení řetězce ze souboru\n",
    "with open(\"text.txt\", \"r\", encoding=\"utf-8\") as file:\n",
    "    text_in = file.read()\n",
    "    # Alternativa:\n",
    "    # for line in file:\n",
    "    #     print(line)\n",
    "\n",
    "print(text_in)"
   ]
  },
  {
   "cell_type": "markdown",
   "metadata": {},
   "source": [
    "## 00-02\n",
    "\n",
    "Vytvoř libovolný seznam čísel v pythonu a ulož ho do textového souboru \"numbers.txt\". Čísla v souboru budou oddělená čárkou a soubor nebude obsahovat hranaté závorky seznamu."
   ]
  },
  {
   "cell_type": "code",
   "execution_count": 14,
   "metadata": {},
   "outputs": [],
   "source": [
    "# Vytvoření seznamu čísel\n",
    "numbers = [1, 3, 5, 7, 9, 11, 13]\n",
    "\n",
    "# Uložení seznamu do textového souboru\n",
    "with open(\"numbers.txt\", \"w\") as file:\n",
    "    numbers_str = []\n",
    "    for number in numbers:\n",
    "        numbers_str.append(str(number))\n",
    "    numbers_str = \",\".join(numbers_str)\n",
    "    print(numbers_str, file=file)"
   ]
  },
  {
   "cell_type": "markdown",
   "metadata": {},
   "source": [
    "## 00-03\n",
    "\n",
    "Soubor z předchozího příkladu načti a jeho obsah převeď zpět na seznam. Vypiš výsledný seznam - ideálně by se měl shodovat se seznamem vytvořeným na začátku."
   ]
  },
  {
   "cell_type": "code",
   "execution_count": 15,
   "metadata": {},
   "outputs": [
    {
     "name": "stdout",
     "output_type": "stream",
     "text": [
      "1,3,5,7,9,11,13\n",
      "\n",
      "[1, 3, 5, 7, 9, 11, 13]\n"
     ]
    }
   ],
   "source": [
    "# Načtení seznamu z textového souboru a převedení na seznam čísel\n",
    "with open(\"numbers.txt\", \"r\") as file:\n",
    "    text = file.read()\n",
    "    print(text)\n",
    "    text_split = text.split(\",\")\n",
    "    numbers_from_file = []\n",
    "    for item in text_split:\n",
    "        numbers_from_file.append(int(item))\n",
    "\n",
    "# Vypsání výsledného seznamu\n",
    "print(numbers_from_file)"
   ]
  },
  {
   "cell_type": "markdown",
   "metadata": {},
   "source": [
    "## 00-04\n",
    "\n",
    "Vytvoř libovolný slovník se třemi páry klíč-hodnota a jeho obsah ulož do souboru \"output.txt\" tak, že na každém řádku bude jeden pár ve formátu \"klíč: hodnota\"."
   ]
  },
  {
   "cell_type": "code",
   "execution_count": 16,
   "metadata": {},
   "outputs": [],
   "source": [
    "data = {\"key1\": \"value1\", \"key2\": \"value2\", \"key3\": \"value3\"}\n",
    "with open(\"output.txt\", \"w\") as file:\n",
    "    for key, value in data.items():\n",
    "        print(f\"{key}: {value}\", file=file)\n",
    "        # file.write(f\"{key}: {value}\\n\")"
   ]
  },
  {
   "cell_type": "markdown",
   "metadata": {},
   "source": [
    "## 00-05\n",
    "\n",
    "Přečti obsah přiloženého souboru \"slovnik_text.txt\", kde každý řádek obsahuje klíč a hodnotu oddělené dvojtečkou, ulož je do slovníku a ten vypiš. Soubor vypadá dost podivně. Vyčisti data tím, že odstraníš přebytečné mezery (bílé znaky) a názvy klíčů převedeš na malá písmena. Hodnotami jsou čísla, ulož je tedy do slovníku jako celá čísla, tzn. datový typ integer.\n",
    "\n",
    "* Vzor výstupu: `{'pondeli': 10, 'utery': 15, 'streda': 40, 'ctvrtek': 8, 'patek': 11, 'sobota': 0, 'nedele': 1}`"
   ]
  },
  {
   "cell_type": "code",
   "execution_count": 17,
   "metadata": {},
   "outputs": [
    {
     "name": "stdout",
     "output_type": "stream",
     "text": [
      "{'pondeli': 10, 'utery': 15, 'streda': 40, 'ctvrtek': 8, 'patek': 11, 'sobota': 0, 'nedele': 1}\n"
     ]
    }
   ],
   "source": [
    "dict_text = {}\n",
    "with open(\"slovnik_text.txt\", \"r\") as file:\n",
    "    for line in file:\n",
    "        key, value = line.split(\":\")\n",
    "        key = key.strip().lower()\n",
    "        value = value.strip()\n",
    "        dict_text[key] = int(value)\n",
    "\n",
    "print(dict_text)"
   ]
  },
  {
   "cell_type": "markdown",
   "metadata": {},
   "source": [
    "## 00-06\n",
    "\n",
    "Odstraň z následujícího seznamu čísel duplikáty. Využij for cyklus.\n",
    "\n",
    "- Vstup - seznam čísel s duplikáty: `[1, 1, 1, 3, 4, 1, 4, 2]`\n",
    "\n",
    "- Výstup - seznam čísel bez duplikátů: `[1, 3, 4, 2]`\n",
    "\n",
    "Bonus: Místo cyklu můžeš využít datového typu množina, jehož vlastností je, že obsahuje jen unikátní hodnoty (nemůže obsahovat duplikáty). Množinu lze vytvořit jako `set(prvky_mnoziny)`. Množina nezachová původní pořadí, předpokládejme tedy, že na pořadí ve výstupu nezáleží. Výstupem by měl být opět datový typ seznam."
   ]
  },
  {
   "cell_type": "code",
   "execution_count": 18,
   "metadata": {},
   "outputs": [
    {
     "name": "stdout",
     "output_type": "stream",
     "text": [
      "[1, 3, 4, 2]\n"
     ]
    }
   ],
   "source": [
    "# Pomocí for cyklu\n",
    "numbers = [1, 1, 1, 3, 4, 1, 4, 2]\n",
    "\n",
    "numbers_unique = []\n",
    "\n",
    "for number in numbers:\n",
    "    if number not in numbers_unique:\n",
    "        numbers_unique.append(number)\n",
    "        \n",
    "print(numbers_unique)"
   ]
  },
  {
   "cell_type": "code",
   "execution_count": 19,
   "metadata": {},
   "outputs": [
    {
     "name": "stdout",
     "output_type": "stream",
     "text": [
      "[1, 2, 3, 4]\n"
     ]
    }
   ],
   "source": [
    "# Pomocí množiny\n",
    "numbers = [1, 1, 1, 3, 4, 1, 4, 2]\n",
    "\n",
    "numbers_unique = list(set(numbers))\n",
    "print(numbers_unique)"
   ]
  },
  {
   "cell_type": "markdown",
   "metadata": {},
   "source": [
    "## 00-07\n",
    "\n",
    "Napiš funkci pro zkrácení příliš dlouhého řetězce. Vstupem bude řetězec a maximální počet znaků. Výstupem bude celý původní řetězec (pokud je kratší než maximum), nebo řetězec zkrácený na požadované maximum (pokud je delší než maximum). Tělo (vnitřek) funkce může mít při nejstručnějším zápisu i jen jeden řádek. Funkci otestuj třeba na řetězci níže. Jako bonus můžeš přidat výpis upozornění uživateli v případech, kdy je potřeba text zkrátit.\n",
    "\n",
    "Vzorový řetězec \"Lorem ipsum\" s délkou 103 znaků: `\"Lorem ipsum dolor sit amet, consectetur adipiscing elit. Nulla vitae nisi nec magna pharetra elementum.\"`"
   ]
  },
  {
   "cell_type": "code",
   "execution_count": 20,
   "metadata": {},
   "outputs": [
    {
     "name": "stdout",
     "output_type": "stream",
     "text": [
      "Exceeded maximum number of characters. Text was cut to 50 chars.\n",
      "Lorem ipsum dolor sit amet, consectetur adipiscing\n"
     ]
    }
   ],
   "source": [
    "text_in = \"Lorem ipsum dolor sit amet, consectetur adipiscing elit. Nulla vitae nisi nec magna pharetra elementum.\"\n",
    "\n",
    "def cut_text(text, characters_max):\n",
    "    if len(text) > characters_max:\n",
    "        print(f\"Exceeded maximum number of characters. Text was cut to {characters_max} chars.\")\n",
    "    return text[:characters_max]\n",
    "\n",
    "text_out = cut_text(text_in, 50)\n",
    "print(text_out)"
   ]
  },
  {
   "cell_type": "markdown",
   "metadata": {},
   "source": [
    "## 00-08\n",
    "\n",
    "Spočítej, kolik knih vlastní knihovna. Využij následující slovníkovou strukturu, ve které najdeš počet kopií každé knihy pod klíčem \"copies\", a sečti všechny kopie.\n",
    "\n",
    "```\n",
    "library = {\n",
    "    \"Fantasy\": {\"Harry Potter\": {\"author\": \"J.K. Rowling\", \"copies\": 5, \"borrowed\": 2},\n",
    "                \"Lord of the Rings\": {\"author\": \"J.R.R. Tolkien\", \"copies\": 8, \"borrowed\": 0}},\n",
    "    \"Science Fiction\": {\"Dune\": {\"author\": \"Frank Herbert\", \"copies\": 3, \"borrowed\": 1},\n",
    "                        \"Foundation\": {\"author\": \"Isaac Asimov\", \"copies\": 6, \"borrowed\": 4}}\n",
    "}\n",
    "```"
   ]
  },
  {
   "cell_type": "code",
   "execution_count": 21,
   "metadata": {},
   "outputs": [
    {
     "name": "stdout",
     "output_type": "stream",
     "text": [
      "Knihovna vlastní celkem 22 knih.\n"
     ]
    }
   ],
   "source": [
    "library = {\n",
    "    \"Fantasy\": {\"Harry Potter\": {\"author\": \"J.K. Rowling\", \"copies\": 5, \"borrowed\": 2},\n",
    "                \"Lord of the Rings\": {\"author\": \"J.R.R. Tolkien\", \"copies\": 8, \"borrowed\": 0}},\n",
    "    \"Science Fiction\": {\"Dune\": {\"author\": \"Frank Herbert\", \"copies\": 3, \"borrowed\": 1},\n",
    "                        \"Foundation\": {\"author\": \"Isaac Asimov\", \"copies\": 6, \"borrowed\": 4}}\n",
    "}\n",
    "\n",
    "books_total = 0\n",
    "for category in library.values():\n",
    "    for book_info in category.values():\n",
    "        books_total += book_info[\"copies\"]\n",
    "\n",
    "print(f\"Knihovna vlastní celkem {books_total} knih.\")"
   ]
  },
  {
   "cell_type": "markdown",
   "metadata": {},
   "source": [
    "## 00-09\n",
    "\n",
    "Vytvoř z prvků následujícího seznamu nový seznam, který bude tvořen pouze čísly z původního seznamu (ostatní prvky vyloučíme). Hledaná čísla se můžou v seznamu vyskytovat jako datový typ string nebo integer. Čísla ve výstupním seznamu budou datového typu integer.\n",
    "\n",
    "Vstup:\n",
    "```\n",
    "list_messed_up = [\n",
    "    \"42\", \"hello\", {\"koala_to_eucalyptus_ratio\": \"extreme\"}, 20, \"3\", \n",
    "    None, [\"\", \"\\n\"], {\"houby_v_lese\", \"mokre_boty\"}, 411, \"fantastic!\"\n",
    "    ]\n",
    "```\n",
    "\n",
    "Výstup: `[42, 20, 3, 411]`\n",
    "\n",
    "Nápověda: Bude potřeba ověřovat, jakého datového typu je každý prvek v seznamu. K tomu poslouží funkce `isinstance()` volaná jako `isinstance(object_to_test, str)`, která porovná datový typ objektu zadaného jako první parametr s typem zadaným jako druhý parametr. Podobně lze ověřit, jestli je vstupem datový typ integer (`int`). Taky se bude hodit metoda `isdigit()` pro ověření, jestli řetězec obsahuje číslo."
   ]
  },
  {
   "cell_type": "code",
   "execution_count": 22,
   "metadata": {},
   "outputs": [
    {
     "name": "stdout",
     "output_type": "stream",
     "text": [
      "[42, 20, 3, 411]\n"
     ]
    }
   ],
   "source": [
    "list_messed_up = [\n",
    "    \"42\", \"hello\", {\"koala_to_eucalyptus_ratio\": \"extreme\"}, 20, \"3\", \n",
    "    None, [\"\", \"\\n\"], {\"houby_v_lese\", \"mokre_boty\"}, 411, \"fantastic!\"\n",
    "    ]\n",
    "\n",
    "list_clean = []\n",
    "for item in list_messed_up:\n",
    "    if isinstance(item, str) and item.isdigit():\n",
    "        list_clean.append(int(item))\n",
    "    elif isinstance(item, int):\n",
    "        list_clean.append(item)\n",
    "\n",
    "print(list_clean)"
   ]
  }
 ],
 "metadata": {
  "kernelspec": {
   "display_name": "Python 3",
   "language": "python",
   "name": "python3"
  },
  "language_info": {
   "codemirror_mode": {
    "name": "ipython",
    "version": 3
   },
   "file_extension": ".py",
   "mimetype": "text/x-python",
   "name": "python",
   "nbconvert_exporter": "python",
   "pygments_lexer": "ipython3",
   "version": "3.12.1"
  }
 },
 "nbformat": 4,
 "nbformat_minor": 2
}
